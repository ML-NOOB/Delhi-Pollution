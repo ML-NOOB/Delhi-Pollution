{
 "cells": [
  {
   "cell_type": "code",
   "execution_count": 1,
   "metadata": {},
   "outputs": [],
   "source": [
    "#IMPORTING NECESSARY LIBRARIES\n",
    "import matplotlib.pyplot as plt\n",
    "import numpy as np\n",
    "import pandas as pd\n",
    "from pandas import Series, DataFrame\n",
    "import scipy\n",
    "from scipy import stats\n",
    "import random\n",
    "    "
   ]
  },
  {
   "cell_type": "code",
   "execution_count": 2,
   "metadata": {},
   "outputs": [
    {
     "data": {
      "text/html": [
       "<div>\n",
       "<style scoped>\n",
       "    .dataframe tbody tr th:only-of-type {\n",
       "        vertical-align: middle;\n",
       "    }\n",
       "\n",
       "    .dataframe tbody tr th {\n",
       "        vertical-align: top;\n",
       "    }\n",
       "\n",
       "    .dataframe thead th {\n",
       "        text-align: right;\n",
       "    }\n",
       "</style>\n",
       "<table border=\"1\" class=\"dataframe\">\n",
       "  <thead>\n",
       "    <tr style=\"text-align: right;\">\n",
       "      <th></th>\n",
       "      <th>City</th>\n",
       "      <th>Date</th>\n",
       "      <th>PM2.5</th>\n",
       "      <th>PM10</th>\n",
       "      <th>NO</th>\n",
       "      <th>NO2</th>\n",
       "      <th>NOx</th>\n",
       "      <th>NH3</th>\n",
       "      <th>CO</th>\n",
       "      <th>SO2</th>\n",
       "      <th>O3</th>\n",
       "      <th>Benzene</th>\n",
       "      <th>Toluene</th>\n",
       "      <th>Xylene</th>\n",
       "      <th>AQI</th>\n",
       "      <th>AQI_Bucket</th>\n",
       "    </tr>\n",
       "  </thead>\n",
       "  <tbody>\n",
       "    <tr>\n",
       "      <th>0</th>\n",
       "      <td>Delhi</td>\n",
       "      <td>01-01-2015</td>\n",
       "      <td>313.22</td>\n",
       "      <td>607.98</td>\n",
       "      <td>69.16</td>\n",
       "      <td>36.39</td>\n",
       "      <td>110.59</td>\n",
       "      <td>33.85</td>\n",
       "      <td>15.20</td>\n",
       "      <td>9.25</td>\n",
       "      <td>41.68</td>\n",
       "      <td>14.36</td>\n",
       "      <td>24.86</td>\n",
       "      <td>9.84</td>\n",
       "      <td>472.0</td>\n",
       "      <td>Severe</td>\n",
       "    </tr>\n",
       "    <tr>\n",
       "      <th>1</th>\n",
       "      <td>Delhi</td>\n",
       "      <td>02-01-2015</td>\n",
       "      <td>186.18</td>\n",
       "      <td>269.55</td>\n",
       "      <td>62.09</td>\n",
       "      <td>32.87</td>\n",
       "      <td>88.14</td>\n",
       "      <td>31.83</td>\n",
       "      <td>9.54</td>\n",
       "      <td>6.65</td>\n",
       "      <td>29.97</td>\n",
       "      <td>10.55</td>\n",
       "      <td>20.09</td>\n",
       "      <td>4.29</td>\n",
       "      <td>454.0</td>\n",
       "      <td>Severe</td>\n",
       "    </tr>\n",
       "    <tr>\n",
       "      <th>2</th>\n",
       "      <td>Delhi</td>\n",
       "      <td>03-01-2015</td>\n",
       "      <td>87.18</td>\n",
       "      <td>131.90</td>\n",
       "      <td>25.73</td>\n",
       "      <td>30.31</td>\n",
       "      <td>47.95</td>\n",
       "      <td>69.55</td>\n",
       "      <td>10.61</td>\n",
       "      <td>2.65</td>\n",
       "      <td>19.71</td>\n",
       "      <td>3.91</td>\n",
       "      <td>10.23</td>\n",
       "      <td>1.99</td>\n",
       "      <td>143.0</td>\n",
       "      <td>Moderate</td>\n",
       "    </tr>\n",
       "    <tr>\n",
       "      <th>3</th>\n",
       "      <td>Delhi</td>\n",
       "      <td>04-01-2015</td>\n",
       "      <td>151.84</td>\n",
       "      <td>241.84</td>\n",
       "      <td>25.01</td>\n",
       "      <td>36.91</td>\n",
       "      <td>48.62</td>\n",
       "      <td>130.36</td>\n",
       "      <td>11.54</td>\n",
       "      <td>4.63</td>\n",
       "      <td>25.36</td>\n",
       "      <td>4.26</td>\n",
       "      <td>9.71</td>\n",
       "      <td>3.34</td>\n",
       "      <td>319.0</td>\n",
       "      <td>Very Poor</td>\n",
       "    </tr>\n",
       "    <tr>\n",
       "      <th>4</th>\n",
       "      <td>Delhi</td>\n",
       "      <td>05-01-2015</td>\n",
       "      <td>146.60</td>\n",
       "      <td>219.13</td>\n",
       "      <td>14.01</td>\n",
       "      <td>34.92</td>\n",
       "      <td>38.25</td>\n",
       "      <td>122.88</td>\n",
       "      <td>9.20</td>\n",
       "      <td>3.33</td>\n",
       "      <td>23.20</td>\n",
       "      <td>2.80</td>\n",
       "      <td>6.21</td>\n",
       "      <td>2.96</td>\n",
       "      <td>325.0</td>\n",
       "      <td>Very Poor</td>\n",
       "    </tr>\n",
       "    <tr>\n",
       "      <th>...</th>\n",
       "      <td>...</td>\n",
       "      <td>...</td>\n",
       "      <td>...</td>\n",
       "      <td>...</td>\n",
       "      <td>...</td>\n",
       "      <td>...</td>\n",
       "      <td>...</td>\n",
       "      <td>...</td>\n",
       "      <td>...</td>\n",
       "      <td>...</td>\n",
       "      <td>...</td>\n",
       "      <td>...</td>\n",
       "      <td>...</td>\n",
       "      <td>...</td>\n",
       "      <td>...</td>\n",
       "      <td>...</td>\n",
       "    </tr>\n",
       "    <tr>\n",
       "      <th>2004</th>\n",
       "      <td>Delhi</td>\n",
       "      <td>27-06-2020</td>\n",
       "      <td>39.80</td>\n",
       "      <td>155.94</td>\n",
       "      <td>10.88</td>\n",
       "      <td>21.46</td>\n",
       "      <td>22.47</td>\n",
       "      <td>31.43</td>\n",
       "      <td>0.87</td>\n",
       "      <td>10.38</td>\n",
       "      <td>18.88</td>\n",
       "      <td>1.69</td>\n",
       "      <td>19.99</td>\n",
       "      <td>0.43</td>\n",
       "      <td>112.0</td>\n",
       "      <td>Moderate</td>\n",
       "    </tr>\n",
       "    <tr>\n",
       "      <th>2005</th>\n",
       "      <td>Delhi</td>\n",
       "      <td>28-06-2020</td>\n",
       "      <td>59.52</td>\n",
       "      <td>308.65</td>\n",
       "      <td>12.67</td>\n",
       "      <td>21.60</td>\n",
       "      <td>23.86</td>\n",
       "      <td>29.27</td>\n",
       "      <td>0.94</td>\n",
       "      <td>10.70</td>\n",
       "      <td>18.05</td>\n",
       "      <td>1.71</td>\n",
       "      <td>25.13</td>\n",
       "      <td>1.74</td>\n",
       "      <td>196.0</td>\n",
       "      <td>Moderate</td>\n",
       "    </tr>\n",
       "    <tr>\n",
       "      <th>2006</th>\n",
       "      <td>Delhi</td>\n",
       "      <td>29-06-2020</td>\n",
       "      <td>44.86</td>\n",
       "      <td>184.12</td>\n",
       "      <td>10.50</td>\n",
       "      <td>21.57</td>\n",
       "      <td>21.94</td>\n",
       "      <td>27.97</td>\n",
       "      <td>0.88</td>\n",
       "      <td>11.58</td>\n",
       "      <td>26.61</td>\n",
       "      <td>2.13</td>\n",
       "      <td>23.80</td>\n",
       "      <td>1.13</td>\n",
       "      <td>233.0</td>\n",
       "      <td>Poor</td>\n",
       "    </tr>\n",
       "    <tr>\n",
       "      <th>2007</th>\n",
       "      <td>Delhi</td>\n",
       "      <td>30-06-2020</td>\n",
       "      <td>39.80</td>\n",
       "      <td>91.98</td>\n",
       "      <td>5.99</td>\n",
       "      <td>17.96</td>\n",
       "      <td>15.44</td>\n",
       "      <td>28.48</td>\n",
       "      <td>0.84</td>\n",
       "      <td>10.51</td>\n",
       "      <td>37.29</td>\n",
       "      <td>1.57</td>\n",
       "      <td>16.37</td>\n",
       "      <td>0.49</td>\n",
       "      <td>114.0</td>\n",
       "      <td>Moderate</td>\n",
       "    </tr>\n",
       "    <tr>\n",
       "      <th>2008</th>\n",
       "      <td>Delhi</td>\n",
       "      <td>01-07-2020</td>\n",
       "      <td>54.01</td>\n",
       "      <td>128.66</td>\n",
       "      <td>6.33</td>\n",
       "      <td>21.05</td>\n",
       "      <td>16.81</td>\n",
       "      <td>29.06</td>\n",
       "      <td>0.97</td>\n",
       "      <td>11.15</td>\n",
       "      <td>29.73</td>\n",
       "      <td>2.03</td>\n",
       "      <td>23.57</td>\n",
       "      <td>0.65</td>\n",
       "      <td>101.0</td>\n",
       "      <td>Moderate</td>\n",
       "    </tr>\n",
       "  </tbody>\n",
       "</table>\n",
       "<p>2009 rows × 16 columns</p>\n",
       "</div>"
      ],
      "text/plain": [
       "       City        Date   PM2.5    PM10     NO    NO2     NOx     NH3     CO  \\\n",
       "0     Delhi  01-01-2015  313.22  607.98  69.16  36.39  110.59   33.85  15.20   \n",
       "1     Delhi  02-01-2015  186.18  269.55  62.09  32.87   88.14   31.83   9.54   \n",
       "2     Delhi  03-01-2015   87.18  131.90  25.73  30.31   47.95   69.55  10.61   \n",
       "3     Delhi  04-01-2015  151.84  241.84  25.01  36.91   48.62  130.36  11.54   \n",
       "4     Delhi  05-01-2015  146.60  219.13  14.01  34.92   38.25  122.88   9.20   \n",
       "...     ...         ...     ...     ...    ...    ...     ...     ...    ...   \n",
       "2004  Delhi  27-06-2020   39.80  155.94  10.88  21.46   22.47   31.43   0.87   \n",
       "2005  Delhi  28-06-2020   59.52  308.65  12.67  21.60   23.86   29.27   0.94   \n",
       "2006  Delhi  29-06-2020   44.86  184.12  10.50  21.57   21.94   27.97   0.88   \n",
       "2007  Delhi  30-06-2020   39.80   91.98   5.99  17.96   15.44   28.48   0.84   \n",
       "2008  Delhi  01-07-2020   54.01  128.66   6.33  21.05   16.81   29.06   0.97   \n",
       "\n",
       "        SO2     O3  Benzene  Toluene  Xylene    AQI AQI_Bucket  \n",
       "0      9.25  41.68    14.36    24.86    9.84  472.0     Severe  \n",
       "1      6.65  29.97    10.55    20.09    4.29  454.0     Severe  \n",
       "2      2.65  19.71     3.91    10.23    1.99  143.0   Moderate  \n",
       "3      4.63  25.36     4.26     9.71    3.34  319.0  Very Poor  \n",
       "4      3.33  23.20     2.80     6.21    2.96  325.0  Very Poor  \n",
       "...     ...    ...      ...      ...     ...    ...        ...  \n",
       "2004  10.38  18.88     1.69    19.99    0.43  112.0   Moderate  \n",
       "2005  10.70  18.05     1.71    25.13    1.74  196.0   Moderate  \n",
       "2006  11.58  26.61     2.13    23.80    1.13  233.0       Poor  \n",
       "2007  10.51  37.29     1.57    16.37    0.49  114.0   Moderate  \n",
       "2008  11.15  29.73     2.03    23.57    0.65  101.0   Moderate  \n",
       "\n",
       "[2009 rows x 16 columns]"
      ]
     },
     "execution_count": 2,
     "metadata": {},
     "output_type": "execute_result"
    }
   ],
   "source": [
    "#data \n",
    "df = pd.read_csv('C:/Users/shubh/Documents/City_day_Delhi.csv')\n",
    "df"
   ]
  },
  {
   "cell_type": "code",
   "execution_count": 3,
   "metadata": {},
   "outputs": [
    {
     "data": {
      "text/plain": [
       "City            0\n",
       "Date            0\n",
       "PM2.5           2\n",
       "PM10           77\n",
       "NO              2\n",
       "NO2             2\n",
       "NOx             0\n",
       "NH3             9\n",
       "CO             84\n",
       "SO2           110\n",
       "O3             84\n",
       "Benzene         0\n",
       "Toluene         0\n",
       "Xylene        781\n",
       "AQI            10\n",
       "AQI_Bucket     10\n",
       "dtype: int64"
      ]
     },
     "execution_count": 3,
     "metadata": {},
     "output_type": "execute_result"
    }
   ],
   "source": [
    "#checking for null values\n",
    "df.isnull().sum()"
   ]
  },
  {
   "cell_type": "code",
   "execution_count": 4,
   "metadata": {},
   "outputs": [],
   "source": [
    "#replace null values with mean value for the month in which value was missing. This is because pollutants vary month wise.\n",
    "def fill_na(x,y):\n",
    "    array = x\n",
    "    array2 = y\n",
    "    array3 = np.isnan(array)\n",
    "    for i in range (0,len(array)-1):\n",
    "      if (array3[i,0] == True ): \n",
    "         for j in range (0,len(array2)):\n",
    "             if(array[i,1] == array2[j,1]):\n",
    "                 array[i,0] = array2[j,0]\n",
    "    return(array)"
   ]
  },
  {
   "cell_type": "code",
   "execution_count": 5,
   "metadata": {},
   "outputs": [
    {
     "data": {
      "text/html": [
       "<div>\n",
       "<style scoped>\n",
       "    .dataframe tbody tr th:only-of-type {\n",
       "        vertical-align: middle;\n",
       "    }\n",
       "\n",
       "    .dataframe tbody tr th {\n",
       "        vertical-align: top;\n",
       "    }\n",
       "\n",
       "    .dataframe thead th {\n",
       "        text-align: right;\n",
       "    }\n",
       "</style>\n",
       "<table border=\"1\" class=\"dataframe\">\n",
       "  <thead>\n",
       "    <tr style=\"text-align: right;\">\n",
       "      <th></th>\n",
       "      <th>PM2.5</th>\n",
       "      <th>PM10</th>\n",
       "      <th>NO</th>\n",
       "      <th>NO2</th>\n",
       "      <th>NOx</th>\n",
       "      <th>NH3</th>\n",
       "      <th>CO</th>\n",
       "      <th>SO2</th>\n",
       "      <th>O3</th>\n",
       "      <th>Benzene</th>\n",
       "      <th>Toluene</th>\n",
       "      <th>Xylene</th>\n",
       "      <th>AQI</th>\n",
       "      <th>month</th>\n",
       "    </tr>\n",
       "    <tr>\n",
       "      <th>month</th>\n",
       "      <th></th>\n",
       "      <th></th>\n",
       "      <th></th>\n",
       "      <th></th>\n",
       "      <th></th>\n",
       "      <th></th>\n",
       "      <th></th>\n",
       "      <th></th>\n",
       "      <th></th>\n",
       "      <th></th>\n",
       "      <th></th>\n",
       "      <th></th>\n",
       "      <th></th>\n",
       "      <th></th>\n",
       "    </tr>\n",
       "  </thead>\n",
       "  <tbody>\n",
       "    <tr>\n",
       "      <th>1</th>\n",
       "      <td>197.485430</td>\n",
       "      <td>306.653871</td>\n",
       "      <td>53.992581</td>\n",
       "      <td>57.017957</td>\n",
       "      <td>68.085591</td>\n",
       "      <td>58.074624</td>\n",
       "      <td>3.056774</td>\n",
       "      <td>15.068011</td>\n",
       "      <td>49.730538</td>\n",
       "      <td>5.199516</td>\n",
       "      <td>19.973065</td>\n",
       "      <td>1.559040</td>\n",
       "      <td>360.387097</td>\n",
       "      <td>1</td>\n",
       "    </tr>\n",
       "    <tr>\n",
       "      <th>2</th>\n",
       "      <td>141.975529</td>\n",
       "      <td>246.009588</td>\n",
       "      <td>45.856118</td>\n",
       "      <td>55.475353</td>\n",
       "      <td>66.981706</td>\n",
       "      <td>47.406353</td>\n",
       "      <td>2.908235</td>\n",
       "      <td>15.890176</td>\n",
       "      <td>48.829824</td>\n",
       "      <td>4.036765</td>\n",
       "      <td>15.424000</td>\n",
       "      <td>2.403097</td>\n",
       "      <td>298.829412</td>\n",
       "      <td>2</td>\n",
       "    </tr>\n",
       "    <tr>\n",
       "      <th>3</th>\n",
       "      <td>87.573871</td>\n",
       "      <td>182.341739</td>\n",
       "      <td>32.110323</td>\n",
       "      <td>43.957957</td>\n",
       "      <td>49.663817</td>\n",
       "      <td>35.398804</td>\n",
       "      <td>2.524516</td>\n",
       "      <td>16.667957</td>\n",
       "      <td>44.452796</td>\n",
       "      <td>3.159140</td>\n",
       "      <td>13.418495</td>\n",
       "      <td>1.959355</td>\n",
       "      <td>222.623656</td>\n",
       "      <td>3</td>\n",
       "    </tr>\n",
       "    <tr>\n",
       "      <th>4</th>\n",
       "      <td>90.932222</td>\n",
       "      <td>222.045227</td>\n",
       "      <td>32.598222</td>\n",
       "      <td>49.427056</td>\n",
       "      <td>51.825222</td>\n",
       "      <td>35.551180</td>\n",
       "      <td>2.140444</td>\n",
       "      <td>21.733352</td>\n",
       "      <td>53.524581</td>\n",
       "      <td>3.282722</td>\n",
       "      <td>13.318500</td>\n",
       "      <td>1.067083</td>\n",
       "      <td>248.444444</td>\n",
       "      <td>4</td>\n",
       "    </tr>\n",
       "    <tr>\n",
       "      <th>5</th>\n",
       "      <td>92.209946</td>\n",
       "      <td>238.978098</td>\n",
       "      <td>28.725161</td>\n",
       "      <td>51.855269</td>\n",
       "      <td>52.960699</td>\n",
       "      <td>37.813548</td>\n",
       "      <td>2.313387</td>\n",
       "      <td>20.669409</td>\n",
       "      <td>62.751828</td>\n",
       "      <td>2.959731</td>\n",
       "      <td>13.867903</td>\n",
       "      <td>0.456064</td>\n",
       "      <td>258.693548</td>\n",
       "      <td>5</td>\n",
       "    </tr>\n",
       "    <tr>\n",
       "      <th>6</th>\n",
       "      <td>69.810111</td>\n",
       "      <td>194.179887</td>\n",
       "      <td>20.014000</td>\n",
       "      <td>45.313500</td>\n",
       "      <td>40.031222</td>\n",
       "      <td>40.094722</td>\n",
       "      <td>1.498535</td>\n",
       "      <td>11.229936</td>\n",
       "      <td>55.887962</td>\n",
       "      <td>2.355722</td>\n",
       "      <td>11.795833</td>\n",
       "      <td>1.007556</td>\n",
       "      <td>199.418994</td>\n",
       "      <td>6</td>\n",
       "    </tr>\n",
       "    <tr>\n",
       "      <th>7</th>\n",
       "      <td>46.417628</td>\n",
       "      <td>119.895703</td>\n",
       "      <td>18.163846</td>\n",
       "      <td>34.843846</td>\n",
       "      <td>48.292500</td>\n",
       "      <td>37.189615</td>\n",
       "      <td>1.319760</td>\n",
       "      <td>9.603200</td>\n",
       "      <td>41.731840</td>\n",
       "      <td>1.850577</td>\n",
       "      <td>12.668654</td>\n",
       "      <td>1.035079</td>\n",
       "      <td>137.574194</td>\n",
       "      <td>7</td>\n",
       "    </tr>\n",
       "    <tr>\n",
       "      <th>8</th>\n",
       "      <td>43.102026</td>\n",
       "      <td>114.451935</td>\n",
       "      <td>22.486797</td>\n",
       "      <td>36.097516</td>\n",
       "      <td>50.378968</td>\n",
       "      <td>31.123487</td>\n",
       "      <td>1.206320</td>\n",
       "      <td>9.388560</td>\n",
       "      <td>42.209841</td>\n",
       "      <td>1.745419</td>\n",
       "      <td>13.722194</td>\n",
       "      <td>0.889687</td>\n",
       "      <td>134.442177</td>\n",
       "      <td>8</td>\n",
       "    </tr>\n",
       "    <tr>\n",
       "      <th>9</th>\n",
       "      <td>55.345000</td>\n",
       "      <td>135.992067</td>\n",
       "      <td>23.202267</td>\n",
       "      <td>36.635133</td>\n",
       "      <td>42.509467</td>\n",
       "      <td>29.783716</td>\n",
       "      <td>0.960933</td>\n",
       "      <td>10.936560</td>\n",
       "      <td>44.448067</td>\n",
       "      <td>1.991667</td>\n",
       "      <td>14.148733</td>\n",
       "      <td>1.366082</td>\n",
       "      <td>157.426667</td>\n",
       "      <td>9</td>\n",
       "    </tr>\n",
       "    <tr>\n",
       "      <th>10</th>\n",
       "      <td>140.911935</td>\n",
       "      <td>272.345548</td>\n",
       "      <td>56.857613</td>\n",
       "      <td>59.415806</td>\n",
       "      <td>75.270452</td>\n",
       "      <td>39.674129</td>\n",
       "      <td>1.552387</td>\n",
       "      <td>17.233161</td>\n",
       "      <td>61.509161</td>\n",
       "      <td>4.327548</td>\n",
       "      <td>26.497613</td>\n",
       "      <td>1.720000</td>\n",
       "      <td>312.329032</td>\n",
       "      <td>10</td>\n",
       "    </tr>\n",
       "    <tr>\n",
       "      <th>11</th>\n",
       "      <td>238.245200</td>\n",
       "      <td>368.114200</td>\n",
       "      <td>68.818200</td>\n",
       "      <td>72.589667</td>\n",
       "      <td>86.207867</td>\n",
       "      <td>53.077400</td>\n",
       "      <td>1.876067</td>\n",
       "      <td>19.633200</td>\n",
       "      <td>58.854400</td>\n",
       "      <td>5.930133</td>\n",
       "      <td>27.881333</td>\n",
       "      <td>1.409917</td>\n",
       "      <td>401.953333</td>\n",
       "      <td>11</td>\n",
       "    </tr>\n",
       "    <tr>\n",
       "      <th>12</th>\n",
       "      <td>208.100000</td>\n",
       "      <td>355.319865</td>\n",
       "      <td>69.227677</td>\n",
       "      <td>67.505935</td>\n",
       "      <td>75.297613</td>\n",
       "      <td>58.000258</td>\n",
       "      <td>2.610323</td>\n",
       "      <td>17.659484</td>\n",
       "      <td>47.660774</td>\n",
       "      <td>5.781935</td>\n",
       "      <td>26.302839</td>\n",
       "      <td>1.682947</td>\n",
       "      <td>371.206452</td>\n",
       "      <td>12</td>\n",
       "    </tr>\n",
       "  </tbody>\n",
       "</table>\n",
       "</div>"
      ],
      "text/plain": [
       "            PM2.5        PM10         NO        NO2        NOx        NH3  \\\n",
       "month                                                                       \n",
       "1      197.485430  306.653871  53.992581  57.017957  68.085591  58.074624   \n",
       "2      141.975529  246.009588  45.856118  55.475353  66.981706  47.406353   \n",
       "3       87.573871  182.341739  32.110323  43.957957  49.663817  35.398804   \n",
       "4       90.932222  222.045227  32.598222  49.427056  51.825222  35.551180   \n",
       "5       92.209946  238.978098  28.725161  51.855269  52.960699  37.813548   \n",
       "6       69.810111  194.179887  20.014000  45.313500  40.031222  40.094722   \n",
       "7       46.417628  119.895703  18.163846  34.843846  48.292500  37.189615   \n",
       "8       43.102026  114.451935  22.486797  36.097516  50.378968  31.123487   \n",
       "9       55.345000  135.992067  23.202267  36.635133  42.509467  29.783716   \n",
       "10     140.911935  272.345548  56.857613  59.415806  75.270452  39.674129   \n",
       "11     238.245200  368.114200  68.818200  72.589667  86.207867  53.077400   \n",
       "12     208.100000  355.319865  69.227677  67.505935  75.297613  58.000258   \n",
       "\n",
       "             CO        SO2         O3   Benzene    Toluene    Xylene  \\\n",
       "month                                                                  \n",
       "1      3.056774  15.068011  49.730538  5.199516  19.973065  1.559040   \n",
       "2      2.908235  15.890176  48.829824  4.036765  15.424000  2.403097   \n",
       "3      2.524516  16.667957  44.452796  3.159140  13.418495  1.959355   \n",
       "4      2.140444  21.733352  53.524581  3.282722  13.318500  1.067083   \n",
       "5      2.313387  20.669409  62.751828  2.959731  13.867903  0.456064   \n",
       "6      1.498535  11.229936  55.887962  2.355722  11.795833  1.007556   \n",
       "7      1.319760   9.603200  41.731840  1.850577  12.668654  1.035079   \n",
       "8      1.206320   9.388560  42.209841  1.745419  13.722194  0.889687   \n",
       "9      0.960933  10.936560  44.448067  1.991667  14.148733  1.366082   \n",
       "10     1.552387  17.233161  61.509161  4.327548  26.497613  1.720000   \n",
       "11     1.876067  19.633200  58.854400  5.930133  27.881333  1.409917   \n",
       "12     2.610323  17.659484  47.660774  5.781935  26.302839  1.682947   \n",
       "\n",
       "              AQI  month  \n",
       "month                     \n",
       "1      360.387097      1  \n",
       "2      298.829412      2  \n",
       "3      222.623656      3  \n",
       "4      248.444444      4  \n",
       "5      258.693548      5  \n",
       "6      199.418994      6  \n",
       "7      137.574194      7  \n",
       "8      134.442177      8  \n",
       "9      157.426667      9  \n",
       "10     312.329032     10  \n",
       "11     401.953333     11  \n",
       "12     371.206452     12  "
      ]
     },
     "execution_count": 5,
     "metadata": {},
     "output_type": "execute_result"
    }
   ],
   "source": [
    "df['Date'] = pd.to_datetime(df['Date'],dayfirst=True) # convert date to values of the date\n",
    "df['month'] = df['Date'].dt.month\n",
    "df['Year'] = df['Date'].dt.year\n",
    "df['day']  = df['Date'].dt.day\n",
    "lst = df.columns\n",
    "lst = lst[2:15]\n",
    "mean_df = df.groupby('month')[lst].mean()\n",
    "mean_df['month'] = mean_df.index\n",
    "mean_df\n",
    "\n"
   ]
  },
  {
   "cell_type": "code",
   "execution_count": 6,
   "metadata": {},
   "outputs": [],
   "source": [
    "#all null values filled with mean of that month because of seasonal nature of Pollutants.\n",
    "for i in range(2,15):\n",
    " ar =  fill_na(df.iloc[:,[i,16]].values , mean_df.iloc[:,[(i-2),13]].values)\n",
    " df.iloc[:,[i]] = ar[0:2009,0]\n",
    "\n",
    "\n"
   ]
  },
  {
   "cell_type": "code",
   "execution_count": 7,
   "metadata": {},
   "outputs": [
    {
     "data": {
      "text/plain": [
       "AQI        1.000000\n",
       "PM2.5      0.882488\n",
       "PM10       0.880811\n",
       "Benzene    0.671568\n",
       "NO2        0.662152\n",
       "NO         0.641184\n",
       "NOx        0.558112\n",
       "NH3        0.520989\n",
       "SO2        0.440930\n",
       "O3         0.327293\n",
       "Toluene    0.282681\n",
       "CO         0.253443\n",
       "Xylene     0.201847\n",
       "month      0.053530\n",
       "day       -0.045910\n",
       "Year      -0.282881\n",
       "Name: AQI, dtype: float64"
      ]
     },
     "execution_count": 7,
     "metadata": {},
     "output_type": "execute_result"
    }
   ],
   "source": [
    "(df.corr().loc['AQI']).sort_values(ascending = False).T  #parameters which effect AQI"
   ]
  },
  {
   "cell_type": "code",
   "execution_count": 8,
   "metadata": {},
   "outputs": [
    {
     "data": {
      "text/plain": [
       "AQI_Bucket\n",
       "Good             50.0\n",
       "Moderate        200.0\n",
       "Poor            300.0\n",
       "Satisfactory    100.0\n",
       "Severe          716.0\n",
       "Very Poor       400.0\n",
       "Name: AQI, dtype: float64"
      ]
     },
     "execution_count": 8,
     "metadata": {},
     "output_type": "execute_result"
    }
   ],
   "source": [
    "df.groupby('AQI_Bucket')['AQI'].max() # seeing upperlimt for various categories"
   ]
  },
  {
   "cell_type": "code",
   "execution_count": 9,
   "metadata": {},
   "outputs": [],
   "source": [
    "start_date = '01-01-2016'\n",
    "end_date = '31-12-2019'\n",
    "lst = []\n",
    "mask = (df['Date'] > start_date) & (df['Date'] <= end_date) \n",
    "lst = mask\n",
    "Year_15_19 = df.loc[mask]\n",
    "Year_15_19= Year_15_19.loc[(Year_15_19['month'] == 4) |(Year_15_19['month'] == 5)| (Year_15_19['month'] == 6)]\n",
    "# filtering data from 2015-2019 to compare it with 2020 values\n"
   ]
  },
  {
   "cell_type": "code",
   "execution_count": 10,
   "metadata": {},
   "outputs": [
    {
     "data": {
      "text/html": [
       "<div>\n",
       "<style scoped>\n",
       "    .dataframe tbody tr th:only-of-type {\n",
       "        vertical-align: middle;\n",
       "    }\n",
       "\n",
       "    .dataframe tbody tr th {\n",
       "        vertical-align: top;\n",
       "    }\n",
       "\n",
       "    .dataframe thead th {\n",
       "        text-align: right;\n",
       "    }\n",
       "</style>\n",
       "<table border=\"1\" class=\"dataframe\">\n",
       "  <thead>\n",
       "    <tr style=\"text-align: right;\">\n",
       "      <th></th>\n",
       "      <th>City</th>\n",
       "      <th>Date</th>\n",
       "      <th>PM2.5</th>\n",
       "      <th>PM10</th>\n",
       "      <th>NO</th>\n",
       "      <th>NO2</th>\n",
       "      <th>NOx</th>\n",
       "      <th>NH3</th>\n",
       "      <th>CO</th>\n",
       "      <th>SO2</th>\n",
       "      <th>O3</th>\n",
       "      <th>Benzene</th>\n",
       "      <th>Toluene</th>\n",
       "      <th>Xylene</th>\n",
       "      <th>AQI</th>\n",
       "      <th>AQI_Bucket</th>\n",
       "      <th>month</th>\n",
       "      <th>Year</th>\n",
       "      <th>day</th>\n",
       "    </tr>\n",
       "  </thead>\n",
       "  <tbody>\n",
       "    <tr>\n",
       "      <th>1917</th>\n",
       "      <td>Delhi</td>\n",
       "      <td>2020-04-01</td>\n",
       "      <td>32.88</td>\n",
       "      <td>65.84</td>\n",
       "      <td>10.40</td>\n",
       "      <td>19.17</td>\n",
       "      <td>19.26</td>\n",
       "      <td>26.73</td>\n",
       "      <td>0.62</td>\n",
       "      <td>13.00</td>\n",
       "      <td>35.06</td>\n",
       "      <td>1.12</td>\n",
       "      <td>9.17</td>\n",
       "      <td>3.01</td>\n",
       "      <td>80.0</td>\n",
       "      <td>Satisfactory</td>\n",
       "      <td>4</td>\n",
       "      <td>2020</td>\n",
       "      <td>1</td>\n",
       "    </tr>\n",
       "    <tr>\n",
       "      <th>1918</th>\n",
       "      <td>Delhi</td>\n",
       "      <td>2020-04-02</td>\n",
       "      <td>28.51</td>\n",
       "      <td>61.06</td>\n",
       "      <td>9.91</td>\n",
       "      <td>17.18</td>\n",
       "      <td>17.72</td>\n",
       "      <td>22.22</td>\n",
       "      <td>0.60</td>\n",
       "      <td>10.84</td>\n",
       "      <td>39.47</td>\n",
       "      <td>0.91</td>\n",
       "      <td>7.85</td>\n",
       "      <td>0.97</td>\n",
       "      <td>78.0</td>\n",
       "      <td>Satisfactory</td>\n",
       "      <td>4</td>\n",
       "      <td>2020</td>\n",
       "      <td>2</td>\n",
       "    </tr>\n",
       "    <tr>\n",
       "      <th>1919</th>\n",
       "      <td>Delhi</td>\n",
       "      <td>2020-04-03</td>\n",
       "      <td>31.36</td>\n",
       "      <td>62.69</td>\n",
       "      <td>9.29</td>\n",
       "      <td>20.07</td>\n",
       "      <td>19.33</td>\n",
       "      <td>21.54</td>\n",
       "      <td>0.61</td>\n",
       "      <td>11.99</td>\n",
       "      <td>46.82</td>\n",
       "      <td>1.13</td>\n",
       "      <td>8.60</td>\n",
       "      <td>0.77</td>\n",
       "      <td>84.0</td>\n",
       "      <td>Satisfactory</td>\n",
       "      <td>4</td>\n",
       "      <td>2020</td>\n",
       "      <td>3</td>\n",
       "    </tr>\n",
       "    <tr>\n",
       "      <th>1920</th>\n",
       "      <td>Delhi</td>\n",
       "      <td>2020-04-04</td>\n",
       "      <td>40.79</td>\n",
       "      <td>77.64</td>\n",
       "      <td>10.07</td>\n",
       "      <td>22.38</td>\n",
       "      <td>21.19</td>\n",
       "      <td>23.06</td>\n",
       "      <td>0.68</td>\n",
       "      <td>12.59</td>\n",
       "      <td>41.26</td>\n",
       "      <td>1.30</td>\n",
       "      <td>9.64</td>\n",
       "      <td>0.89</td>\n",
       "      <td>90.0</td>\n",
       "      <td>Satisfactory</td>\n",
       "      <td>4</td>\n",
       "      <td>2020</td>\n",
       "      <td>4</td>\n",
       "    </tr>\n",
       "    <tr>\n",
       "      <th>1921</th>\n",
       "      <td>Delhi</td>\n",
       "      <td>2020-04-05</td>\n",
       "      <td>51.79</td>\n",
       "      <td>96.88</td>\n",
       "      <td>10.99</td>\n",
       "      <td>24.42</td>\n",
       "      <td>22.78</td>\n",
       "      <td>25.14</td>\n",
       "      <td>0.81</td>\n",
       "      <td>16.03</td>\n",
       "      <td>44.55</td>\n",
       "      <td>1.74</td>\n",
       "      <td>12.38</td>\n",
       "      <td>0.26</td>\n",
       "      <td>103.0</td>\n",
       "      <td>Moderate</td>\n",
       "      <td>4</td>\n",
       "      <td>2020</td>\n",
       "      <td>5</td>\n",
       "    </tr>\n",
       "    <tr>\n",
       "      <th>...</th>\n",
       "      <td>...</td>\n",
       "      <td>...</td>\n",
       "      <td>...</td>\n",
       "      <td>...</td>\n",
       "      <td>...</td>\n",
       "      <td>...</td>\n",
       "      <td>...</td>\n",
       "      <td>...</td>\n",
       "      <td>...</td>\n",
       "      <td>...</td>\n",
       "      <td>...</td>\n",
       "      <td>...</td>\n",
       "      <td>...</td>\n",
       "      <td>...</td>\n",
       "      <td>...</td>\n",
       "      <td>...</td>\n",
       "      <td>...</td>\n",
       "      <td>...</td>\n",
       "      <td>...</td>\n",
       "    </tr>\n",
       "    <tr>\n",
       "      <th>2003</th>\n",
       "      <td>Delhi</td>\n",
       "      <td>2020-06-26</td>\n",
       "      <td>50.01</td>\n",
       "      <td>112.08</td>\n",
       "      <td>9.67</td>\n",
       "      <td>22.06</td>\n",
       "      <td>21.75</td>\n",
       "      <td>32.64</td>\n",
       "      <td>1.01</td>\n",
       "      <td>11.66</td>\n",
       "      <td>24.82</td>\n",
       "      <td>2.07</td>\n",
       "      <td>23.31</td>\n",
       "      <td>0.70</td>\n",
       "      <td>104.0</td>\n",
       "      <td>Moderate</td>\n",
       "      <td>6</td>\n",
       "      <td>2020</td>\n",
       "      <td>26</td>\n",
       "    </tr>\n",
       "    <tr>\n",
       "      <th>2004</th>\n",
       "      <td>Delhi</td>\n",
       "      <td>2020-06-27</td>\n",
       "      <td>39.80</td>\n",
       "      <td>155.94</td>\n",
       "      <td>10.88</td>\n",
       "      <td>21.46</td>\n",
       "      <td>22.47</td>\n",
       "      <td>31.43</td>\n",
       "      <td>0.87</td>\n",
       "      <td>10.38</td>\n",
       "      <td>18.88</td>\n",
       "      <td>1.69</td>\n",
       "      <td>19.99</td>\n",
       "      <td>0.43</td>\n",
       "      <td>112.0</td>\n",
       "      <td>Moderate</td>\n",
       "      <td>6</td>\n",
       "      <td>2020</td>\n",
       "      <td>27</td>\n",
       "    </tr>\n",
       "    <tr>\n",
       "      <th>2005</th>\n",
       "      <td>Delhi</td>\n",
       "      <td>2020-06-28</td>\n",
       "      <td>59.52</td>\n",
       "      <td>308.65</td>\n",
       "      <td>12.67</td>\n",
       "      <td>21.60</td>\n",
       "      <td>23.86</td>\n",
       "      <td>29.27</td>\n",
       "      <td>0.94</td>\n",
       "      <td>10.70</td>\n",
       "      <td>18.05</td>\n",
       "      <td>1.71</td>\n",
       "      <td>25.13</td>\n",
       "      <td>1.74</td>\n",
       "      <td>196.0</td>\n",
       "      <td>Moderate</td>\n",
       "      <td>6</td>\n",
       "      <td>2020</td>\n",
       "      <td>28</td>\n",
       "    </tr>\n",
       "    <tr>\n",
       "      <th>2006</th>\n",
       "      <td>Delhi</td>\n",
       "      <td>2020-06-29</td>\n",
       "      <td>44.86</td>\n",
       "      <td>184.12</td>\n",
       "      <td>10.50</td>\n",
       "      <td>21.57</td>\n",
       "      <td>21.94</td>\n",
       "      <td>27.97</td>\n",
       "      <td>0.88</td>\n",
       "      <td>11.58</td>\n",
       "      <td>26.61</td>\n",
       "      <td>2.13</td>\n",
       "      <td>23.80</td>\n",
       "      <td>1.13</td>\n",
       "      <td>233.0</td>\n",
       "      <td>Poor</td>\n",
       "      <td>6</td>\n",
       "      <td>2020</td>\n",
       "      <td>29</td>\n",
       "    </tr>\n",
       "    <tr>\n",
       "      <th>2007</th>\n",
       "      <td>Delhi</td>\n",
       "      <td>2020-06-30</td>\n",
       "      <td>39.80</td>\n",
       "      <td>91.98</td>\n",
       "      <td>5.99</td>\n",
       "      <td>17.96</td>\n",
       "      <td>15.44</td>\n",
       "      <td>28.48</td>\n",
       "      <td>0.84</td>\n",
       "      <td>10.51</td>\n",
       "      <td>37.29</td>\n",
       "      <td>1.57</td>\n",
       "      <td>16.37</td>\n",
       "      <td>0.49</td>\n",
       "      <td>114.0</td>\n",
       "      <td>Moderate</td>\n",
       "      <td>6</td>\n",
       "      <td>2020</td>\n",
       "      <td>30</td>\n",
       "    </tr>\n",
       "  </tbody>\n",
       "</table>\n",
       "<p>91 rows × 19 columns</p>\n",
       "</div>"
      ],
      "text/plain": [
       "       City       Date  PM2.5    PM10     NO    NO2    NOx    NH3    CO  \\\n",
       "1917  Delhi 2020-04-01  32.88   65.84  10.40  19.17  19.26  26.73  0.62   \n",
       "1918  Delhi 2020-04-02  28.51   61.06   9.91  17.18  17.72  22.22  0.60   \n",
       "1919  Delhi 2020-04-03  31.36   62.69   9.29  20.07  19.33  21.54  0.61   \n",
       "1920  Delhi 2020-04-04  40.79   77.64  10.07  22.38  21.19  23.06  0.68   \n",
       "1921  Delhi 2020-04-05  51.79   96.88  10.99  24.42  22.78  25.14  0.81   \n",
       "...     ...        ...    ...     ...    ...    ...    ...    ...   ...   \n",
       "2003  Delhi 2020-06-26  50.01  112.08   9.67  22.06  21.75  32.64  1.01   \n",
       "2004  Delhi 2020-06-27  39.80  155.94  10.88  21.46  22.47  31.43  0.87   \n",
       "2005  Delhi 2020-06-28  59.52  308.65  12.67  21.60  23.86  29.27  0.94   \n",
       "2006  Delhi 2020-06-29  44.86  184.12  10.50  21.57  21.94  27.97  0.88   \n",
       "2007  Delhi 2020-06-30  39.80   91.98   5.99  17.96  15.44  28.48  0.84   \n",
       "\n",
       "        SO2     O3  Benzene  Toluene  Xylene    AQI    AQI_Bucket  month  \\\n",
       "1917  13.00  35.06     1.12     9.17    3.01   80.0  Satisfactory      4   \n",
       "1918  10.84  39.47     0.91     7.85    0.97   78.0  Satisfactory      4   \n",
       "1919  11.99  46.82     1.13     8.60    0.77   84.0  Satisfactory      4   \n",
       "1920  12.59  41.26     1.30     9.64    0.89   90.0  Satisfactory      4   \n",
       "1921  16.03  44.55     1.74    12.38    0.26  103.0      Moderate      4   \n",
       "...     ...    ...      ...      ...     ...    ...           ...    ...   \n",
       "2003  11.66  24.82     2.07    23.31    0.70  104.0      Moderate      6   \n",
       "2004  10.38  18.88     1.69    19.99    0.43  112.0      Moderate      6   \n",
       "2005  10.70  18.05     1.71    25.13    1.74  196.0      Moderate      6   \n",
       "2006  11.58  26.61     2.13    23.80    1.13  233.0          Poor      6   \n",
       "2007  10.51  37.29     1.57    16.37    0.49  114.0      Moderate      6   \n",
       "\n",
       "      Year  day  \n",
       "1917  2020    1  \n",
       "1918  2020    2  \n",
       "1919  2020    3  \n",
       "1920  2020    4  \n",
       "1921  2020    5  \n",
       "...    ...  ...  \n",
       "2003  2020   26  \n",
       "2004  2020   27  \n",
       "2005  2020   28  \n",
       "2006  2020   29  \n",
       "2007  2020   30  \n",
       "\n",
       "[91 rows x 19 columns]"
      ]
     },
     "execution_count": 10,
     "metadata": {},
     "output_type": "execute_result"
    }
   ],
   "source": [
    "start_date = '01-01-2020'\n",
    "end_date = '31-12-2020'\n",
    "lst = []\n",
    "mask = (df['Date'] > start_date) & (df['Date'] <= end_date) \n",
    "lst = mask\n",
    "\n",
    "Year_2020 = df.loc[mask]\n",
    "Year_2020 = Year_2020.loc[(Year_2020['month'] == 4) |(Year_2020['month'] == 5)| (Year_2020['month'] == 6)]\n",
    "Year_2020 # we have data only till june 2020"
   ]
  },
  {
   "cell_type": "code",
   "execution_count": 11,
   "metadata": {},
   "outputs": [],
   "source": [
    "Polluted_df = ((df.loc[(df['AQI_Bucket'] == 'Severe' ) | (df['AQI_Bucket'] == 'Very Poor' ) ] ))\n",
    "Polluted_df\n",
    "good_df = ((df.loc[(df['AQI_Bucket'] == 'Good' ) | (df['AQI_Bucket'] == 'Satisfactory' ) ] ))"
   ]
  },
  {
   "cell_type": "code",
   "execution_count": 12,
   "metadata": {},
   "outputs": [],
   "source": [
    "\n",
    "#Polluted_df\n",
    "good_2020 = ((Year_2020.loc[(Year_2020['AQI_Bucket'] == 'Good' ) | (Year_2020['AQI_Bucket'] == 'Satisfactory' ) ] ))\n",
    "good_15_19 = ((Year_15_19.loc[(Year_15_19['AQI_Bucket'] == 'Good' ) | (Year_15_19['AQI_Bucket'] == 'Satisfactory' ) ] ))"
   ]
  },
  {
   "cell_type": "code",
   "execution_count": 13,
   "metadata": {},
   "outputs": [],
   "source": [
    "Polluted_df.to_excel('Severly Polluted Days 2015-2020.xlsx')"
   ]
  },
  {
   "cell_type": "code",
   "execution_count": 14,
   "metadata": {},
   "outputs": [
    {
     "data": {
      "image/png": "[encoded data removed]",
      "text/plain": [
       "<Figure size 432x288 with 1 Axes>"
      ]
     },
     "metadata": {
      "needs_background": "light"
     },
     "output_type": "display_data"
    }
   ],
   "source": [
    "hist = (good_df.groupby('month')['NOx'].count())\n",
    "#hist['month'] = hist.index\n",
    "plt.bar(hist.index, hist, color ='black',\n",
    "        width = .8)\n",
    "plt.xlabel(\"Month\")\n",
    "plt.ylabel(\"good air quality\")\n",
    "plt.title(\"incidences of good air quality month-wise 2015-\")\n",
    "plt.savefig('Good AQI Days 2015-20')\n",
    "plt.show()"
   ]
  },
  {
   "cell_type": "code",
   "execution_count": null,
   "metadata": {},
   "outputs": [],
   "source": []
  },
  {
   "cell_type": "code",
   "execution_count": 15,
   "metadata": {},
   "outputs": [
    {
     "data": {
      "image/png": "[encoded data removed]",
      "text/plain": [
       "<Figure size 432x288 with 1 Axes>"
      ]
     },
     "metadata": {
      "needs_background": "light"
     },
     "output_type": "display_data"
    }
   ],
   "source": [
    "hist2 = Polluted_df.groupby('month')['NOx'].count() #NOx key pollutant from transportation\n",
    "#hist['month'] = hist.index\n",
    "plt.bar(hist2.index, hist2, color ='black',\n",
    "        width = .8)\n",
    "plt.xlabel(\"Month\")\n",
    "plt.ylabel(\"Severly Polluted air quality\")\n",
    "plt.title(\"incidences of poor air quality month-wise 2015-2020\")\n",
    "\n",
    "plt.savefig('Severly Polluted Days 2015-20')"
   ]
  },
  {
   "cell_type": "code",
   "execution_count": 16,
   "metadata": {},
   "outputs": [
    {
     "data": {
      "image/png": "[encoded data removed]",
      "text/plain": [
       "<Figure size 432x288 with 1 Axes>"
      ]
     },
     "metadata": {
      "needs_background": "light"
     },
     "output_type": "display_data"
    }
   ],
   "source": [
    "hist = good_2020.groupby('month')['AQI'].count()\n",
    "hist2 = good_15_19.groupby('month')['AQI'].count()\n",
    "#hist2 = hist/5\n",
    "plt.bar(hist.index-.2, hist, color ='black',\n",
    "        width = .2)\n",
    "plt.bar(hist2.index, hist2, color ='grey',\n",
    "        width = .2)\n",
    "plt.xlabel(\"Month\")\n",
    "plt.ylabel(\"good AQI incidences\")\n",
    "plt.title(\"incidences of good air quality month-wise 2020\")\n",
    "plt.show()"
   ]
  },
  {
   "cell_type": "code",
   "execution_count": 17,
   "metadata": {},
   "outputs": [
    {
     "data": {
      "image/png": "[encoded data removed]",
      "text/plain": [
       "<Figure size 432x288 with 1 Axes>"
      ]
     },
     "metadata": {
      "needs_background": "light"
     },
     "output_type": "display_data"
    }
   ],
   "source": [
    "hist = good_2020.groupby('month')['AQI'].count()\n",
    "#hist['month'] = hist.index\n",
    "\n",
    "plt.bar(hist.index, hist, color ='black',\n",
    "        width = .8)\n",
    "plt.xlabel(\"Month\")\n",
    "plt.ylabel(\"good air quality\")\n",
    "plt.title(\"incidences of good air quality month-wise 2020\")\n",
    "plt.show()"
   ]
  },
  {
   "cell_type": "code",
   "execution_count": 18,
   "metadata": {},
   "outputs": [
    {
     "data": {
      "image/png": "[encoded data removed]",
      "text/plain": [
       "<Figure size 432x288 with 1 Axes>"
      ]
     },
     "metadata": {
      "needs_background": "light"
     },
     "output_type": "display_data"
    }
   ],
   "source": [
    "#plotting AQI 2020 vs 2015-2019\n",
    "hist = Year_2020.groupby('month')['AQI'].mean()\n",
    "hist2 = Year_15_19.groupby('month')['AQI'].mean()\n",
    "bar = plt.bar(hist.index - 0.1, hist, color ='black',width = .2, label = '2020')\n",
    "bar1 = plt.bar(hist2.index+.1 , hist2, color ='grey',width = .2,label ='2015-2019')\n",
    "plt.xlabel(\"Month\")\n",
    "plt.ylabel(\"AIR Quality Index\")\n",
    "plt.legend()\n",
    "plt.title(\"comaprison of air Quality 2015-2019 vs 2020\")\n",
    "plt.savefig('AQI')\n"
   ]
  },
  {
   "cell_type": "code",
   "execution_count": 19,
   "metadata": {},
   "outputs": [
    {
     "data": {
      "text/html": [
       "<div>\n",
       "<style scoped>\n",
       "    .dataframe tbody tr th:only-of-type {\n",
       "        vertical-align: middle;\n",
       "    }\n",
       "\n",
       "    .dataframe tbody tr th {\n",
       "        vertical-align: top;\n",
       "    }\n",
       "\n",
       "    .dataframe thead th {\n",
       "        text-align: right;\n",
       "    }\n",
       "</style>\n",
       "<table border=\"1\" class=\"dataframe\">\n",
       "  <thead>\n",
       "    <tr style=\"text-align: right;\">\n",
       "      <th></th>\n",
       "      <th>City</th>\n",
       "      <th>Date</th>\n",
       "      <th>PM2.5</th>\n",
       "      <th>PM10</th>\n",
       "      <th>NO</th>\n",
       "      <th>NO2</th>\n",
       "      <th>NOx</th>\n",
       "      <th>NH3</th>\n",
       "      <th>CO</th>\n",
       "      <th>SO2</th>\n",
       "      <th>O3</th>\n",
       "      <th>Benzene</th>\n",
       "      <th>Toluene</th>\n",
       "      <th>Xylene</th>\n",
       "      <th>AQI</th>\n",
       "      <th>AQI_Bucket</th>\n",
       "      <th>month</th>\n",
       "      <th>Year</th>\n",
       "      <th>day</th>\n",
       "    </tr>\n",
       "  </thead>\n",
       "  <tbody>\n",
       "    <tr>\n",
       "      <th>1917</th>\n",
       "      <td>Delhi</td>\n",
       "      <td>2020-04-01</td>\n",
       "      <td>32.88</td>\n",
       "      <td>65.84</td>\n",
       "      <td>10.40</td>\n",
       "      <td>19.17</td>\n",
       "      <td>19.26</td>\n",
       "      <td>26.73</td>\n",
       "      <td>0.62</td>\n",
       "      <td>13.00</td>\n",
       "      <td>35.06</td>\n",
       "      <td>1.12</td>\n",
       "      <td>9.17</td>\n",
       "      <td>3.01</td>\n",
       "      <td>80.0</td>\n",
       "      <td>Satisfactory</td>\n",
       "      <td>4</td>\n",
       "      <td>2020</td>\n",
       "      <td>1</td>\n",
       "    </tr>\n",
       "    <tr>\n",
       "      <th>1918</th>\n",
       "      <td>Delhi</td>\n",
       "      <td>2020-04-02</td>\n",
       "      <td>28.51</td>\n",
       "      <td>61.06</td>\n",
       "      <td>9.91</td>\n",
       "      <td>17.18</td>\n",
       "      <td>17.72</td>\n",
       "      <td>22.22</td>\n",
       "      <td>0.60</td>\n",
       "      <td>10.84</td>\n",
       "      <td>39.47</td>\n",
       "      <td>0.91</td>\n",
       "      <td>7.85</td>\n",
       "      <td>0.97</td>\n",
       "      <td>78.0</td>\n",
       "      <td>Satisfactory</td>\n",
       "      <td>4</td>\n",
       "      <td>2020</td>\n",
       "      <td>2</td>\n",
       "    </tr>\n",
       "    <tr>\n",
       "      <th>1919</th>\n",
       "      <td>Delhi</td>\n",
       "      <td>2020-04-03</td>\n",
       "      <td>31.36</td>\n",
       "      <td>62.69</td>\n",
       "      <td>9.29</td>\n",
       "      <td>20.07</td>\n",
       "      <td>19.33</td>\n",
       "      <td>21.54</td>\n",
       "      <td>0.61</td>\n",
       "      <td>11.99</td>\n",
       "      <td>46.82</td>\n",
       "      <td>1.13</td>\n",
       "      <td>8.60</td>\n",
       "      <td>0.77</td>\n",
       "      <td>84.0</td>\n",
       "      <td>Satisfactory</td>\n",
       "      <td>4</td>\n",
       "      <td>2020</td>\n",
       "      <td>3</td>\n",
       "    </tr>\n",
       "    <tr>\n",
       "      <th>1920</th>\n",
       "      <td>Delhi</td>\n",
       "      <td>2020-04-04</td>\n",
       "      <td>40.79</td>\n",
       "      <td>77.64</td>\n",
       "      <td>10.07</td>\n",
       "      <td>22.38</td>\n",
       "      <td>21.19</td>\n",
       "      <td>23.06</td>\n",
       "      <td>0.68</td>\n",
       "      <td>12.59</td>\n",
       "      <td>41.26</td>\n",
       "      <td>1.30</td>\n",
       "      <td>9.64</td>\n",
       "      <td>0.89</td>\n",
       "      <td>90.0</td>\n",
       "      <td>Satisfactory</td>\n",
       "      <td>4</td>\n",
       "      <td>2020</td>\n",
       "      <td>4</td>\n",
       "    </tr>\n",
       "    <tr>\n",
       "      <th>1921</th>\n",
       "      <td>Delhi</td>\n",
       "      <td>2020-04-05</td>\n",
       "      <td>51.79</td>\n",
       "      <td>96.88</td>\n",
       "      <td>10.99</td>\n",
       "      <td>24.42</td>\n",
       "      <td>22.78</td>\n",
       "      <td>25.14</td>\n",
       "      <td>0.81</td>\n",
       "      <td>16.03</td>\n",
       "      <td>44.55</td>\n",
       "      <td>1.74</td>\n",
       "      <td>12.38</td>\n",
       "      <td>0.26</td>\n",
       "      <td>103.0</td>\n",
       "      <td>Moderate</td>\n",
       "      <td>4</td>\n",
       "      <td>2020</td>\n",
       "      <td>5</td>\n",
       "    </tr>\n",
       "    <tr>\n",
       "      <th>1922</th>\n",
       "      <td>Delhi</td>\n",
       "      <td>2020-04-06</td>\n",
       "      <td>59.91</td>\n",
       "      <td>114.88</td>\n",
       "      <td>11.05</td>\n",
       "      <td>24.37</td>\n",
       "      <td>22.68</td>\n",
       "      <td>26.41</td>\n",
       "      <td>0.81</td>\n",
       "      <td>15.59</td>\n",
       "      <td>44.16</td>\n",
       "      <td>2.04</td>\n",
       "      <td>12.80</td>\n",
       "      <td>0.24</td>\n",
       "      <td>134.0</td>\n",
       "      <td>Moderate</td>\n",
       "      <td>4</td>\n",
       "      <td>2020</td>\n",
       "      <td>6</td>\n",
       "    </tr>\n",
       "    <tr>\n",
       "      <th>1923</th>\n",
       "      <td>Delhi</td>\n",
       "      <td>2020-04-07</td>\n",
       "      <td>33.12</td>\n",
       "      <td>94.02</td>\n",
       "      <td>8.50</td>\n",
       "      <td>19.27</td>\n",
       "      <td>17.38</td>\n",
       "      <td>25.53</td>\n",
       "      <td>0.60</td>\n",
       "      <td>13.46</td>\n",
       "      <td>42.65</td>\n",
       "      <td>1.01</td>\n",
       "      <td>9.13</td>\n",
       "      <td>0.13</td>\n",
       "      <td>100.0</td>\n",
       "      <td>Satisfactory</td>\n",
       "      <td>4</td>\n",
       "      <td>2020</td>\n",
       "      <td>7</td>\n",
       "    </tr>\n",
       "    <tr>\n",
       "      <th>1924</th>\n",
       "      <td>Delhi</td>\n",
       "      <td>2020-04-08</td>\n",
       "      <td>29.70</td>\n",
       "      <td>79.04</td>\n",
       "      <td>8.38</td>\n",
       "      <td>18.56</td>\n",
       "      <td>16.51</td>\n",
       "      <td>23.41</td>\n",
       "      <td>0.56</td>\n",
       "      <td>12.85</td>\n",
       "      <td>45.80</td>\n",
       "      <td>0.99</td>\n",
       "      <td>8.24</td>\n",
       "      <td>0.05</td>\n",
       "      <td>91.0</td>\n",
       "      <td>Satisfactory</td>\n",
       "      <td>4</td>\n",
       "      <td>2020</td>\n",
       "      <td>8</td>\n",
       "    </tr>\n",
       "    <tr>\n",
       "      <th>1925</th>\n",
       "      <td>Delhi</td>\n",
       "      <td>2020-04-09</td>\n",
       "      <td>36.13</td>\n",
       "      <td>76.32</td>\n",
       "      <td>8.49</td>\n",
       "      <td>21.37</td>\n",
       "      <td>18.16</td>\n",
       "      <td>23.84</td>\n",
       "      <td>0.66</td>\n",
       "      <td>14.20</td>\n",
       "      <td>48.34</td>\n",
       "      <td>1.11</td>\n",
       "      <td>7.52</td>\n",
       "      <td>0.07</td>\n",
       "      <td>89.0</td>\n",
       "      <td>Satisfactory</td>\n",
       "      <td>4</td>\n",
       "      <td>2020</td>\n",
       "      <td>9</td>\n",
       "    </tr>\n",
       "    <tr>\n",
       "      <th>1926</th>\n",
       "      <td>Delhi</td>\n",
       "      <td>2020-04-10</td>\n",
       "      <td>57.67</td>\n",
       "      <td>112.93</td>\n",
       "      <td>9.80</td>\n",
       "      <td>27.12</td>\n",
       "      <td>23.30</td>\n",
       "      <td>27.71</td>\n",
       "      <td>0.81</td>\n",
       "      <td>16.32</td>\n",
       "      <td>40.36</td>\n",
       "      <td>1.79</td>\n",
       "      <td>11.45</td>\n",
       "      <td>0.14</td>\n",
       "      <td>111.0</td>\n",
       "      <td>Moderate</td>\n",
       "      <td>4</td>\n",
       "      <td>2020</td>\n",
       "      <td>10</td>\n",
       "    </tr>\n",
       "    <tr>\n",
       "      <th>1927</th>\n",
       "      <td>Delhi</td>\n",
       "      <td>2020-04-11</td>\n",
       "      <td>53.03</td>\n",
       "      <td>118.10</td>\n",
       "      <td>9.54</td>\n",
       "      <td>23.64</td>\n",
       "      <td>21.90</td>\n",
       "      <td>28.33</td>\n",
       "      <td>0.83</td>\n",
       "      <td>18.38</td>\n",
       "      <td>49.51</td>\n",
       "      <td>1.88</td>\n",
       "      <td>11.18</td>\n",
       "      <td>0.04</td>\n",
       "      <td>126.0</td>\n",
       "      <td>Moderate</td>\n",
       "      <td>4</td>\n",
       "      <td>2020</td>\n",
       "      <td>11</td>\n",
       "    </tr>\n",
       "    <tr>\n",
       "      <th>1928</th>\n",
       "      <td>Delhi</td>\n",
       "      <td>2020-04-12</td>\n",
       "      <td>38.57</td>\n",
       "      <td>92.70</td>\n",
       "      <td>5.48</td>\n",
       "      <td>17.59</td>\n",
       "      <td>14.66</td>\n",
       "      <td>26.99</td>\n",
       "      <td>0.67</td>\n",
       "      <td>15.70</td>\n",
       "      <td>50.15</td>\n",
       "      <td>1.19</td>\n",
       "      <td>6.87</td>\n",
       "      <td>0.00</td>\n",
       "      <td>102.0</td>\n",
       "      <td>Moderate</td>\n",
       "      <td>4</td>\n",
       "      <td>2020</td>\n",
       "      <td>12</td>\n",
       "    </tr>\n",
       "    <tr>\n",
       "      <th>1929</th>\n",
       "      <td>Delhi</td>\n",
       "      <td>2020-04-13</td>\n",
       "      <td>60.60</td>\n",
       "      <td>136.77</td>\n",
       "      <td>7.16</td>\n",
       "      <td>23.40</td>\n",
       "      <td>19.83</td>\n",
       "      <td>27.95</td>\n",
       "      <td>0.83</td>\n",
       "      <td>19.86</td>\n",
       "      <td>41.07</td>\n",
       "      <td>1.78</td>\n",
       "      <td>9.62</td>\n",
       "      <td>0.00</td>\n",
       "      <td>119.0</td>\n",
       "      <td>Moderate</td>\n",
       "      <td>4</td>\n",
       "      <td>2020</td>\n",
       "      <td>13</td>\n",
       "    </tr>\n",
       "    <tr>\n",
       "      <th>1930</th>\n",
       "      <td>Delhi</td>\n",
       "      <td>2020-04-14</td>\n",
       "      <td>58.22</td>\n",
       "      <td>144.70</td>\n",
       "      <td>8.83</td>\n",
       "      <td>25.71</td>\n",
       "      <td>22.96</td>\n",
       "      <td>28.76</td>\n",
       "      <td>0.93</td>\n",
       "      <td>17.38</td>\n",
       "      <td>40.74</td>\n",
       "      <td>2.04</td>\n",
       "      <td>13.12</td>\n",
       "      <td>0.01</td>\n",
       "      <td>134.0</td>\n",
       "      <td>Moderate</td>\n",
       "      <td>4</td>\n",
       "      <td>2020</td>\n",
       "      <td>14</td>\n",
       "    </tr>\n",
       "    <tr>\n",
       "      <th>1931</th>\n",
       "      <td>Delhi</td>\n",
       "      <td>2020-04-15</td>\n",
       "      <td>58.31</td>\n",
       "      <td>190.98</td>\n",
       "      <td>10.37</td>\n",
       "      <td>24.55</td>\n",
       "      <td>24.05</td>\n",
       "      <td>28.36</td>\n",
       "      <td>0.93</td>\n",
       "      <td>14.89</td>\n",
       "      <td>38.22</td>\n",
       "      <td>2.36</td>\n",
       "      <td>11.89</td>\n",
       "      <td>0.02</td>\n",
       "      <td>152.0</td>\n",
       "      <td>Moderate</td>\n",
       "      <td>4</td>\n",
       "      <td>2020</td>\n",
       "      <td>15</td>\n",
       "    </tr>\n",
       "    <tr>\n",
       "      <th>1932</th>\n",
       "      <td>Delhi</td>\n",
       "      <td>2020-04-16</td>\n",
       "      <td>69.80</td>\n",
       "      <td>191.17</td>\n",
       "      <td>11.86</td>\n",
       "      <td>25.01</td>\n",
       "      <td>25.66</td>\n",
       "      <td>30.36</td>\n",
       "      <td>0.94</td>\n",
       "      <td>19.42</td>\n",
       "      <td>41.87</td>\n",
       "      <td>2.40</td>\n",
       "      <td>13.75</td>\n",
       "      <td>0.01</td>\n",
       "      <td>172.0</td>\n",
       "      <td>Moderate</td>\n",
       "      <td>4</td>\n",
       "      <td>2020</td>\n",
       "      <td>16</td>\n",
       "    </tr>\n",
       "    <tr>\n",
       "      <th>1933</th>\n",
       "      <td>Delhi</td>\n",
       "      <td>2020-04-17</td>\n",
       "      <td>26.93</td>\n",
       "      <td>89.58</td>\n",
       "      <td>8.12</td>\n",
       "      <td>15.83</td>\n",
       "      <td>16.95</td>\n",
       "      <td>26.06</td>\n",
       "      <td>0.64</td>\n",
       "      <td>14.08</td>\n",
       "      <td>53.53</td>\n",
       "      <td>1.07</td>\n",
       "      <td>7.79</td>\n",
       "      <td>0.00</td>\n",
       "      <td>123.0</td>\n",
       "      <td>Moderate</td>\n",
       "      <td>4</td>\n",
       "      <td>2020</td>\n",
       "      <td>17</td>\n",
       "    </tr>\n",
       "    <tr>\n",
       "      <th>1934</th>\n",
       "      <td>Delhi</td>\n",
       "      <td>2020-04-18</td>\n",
       "      <td>29.09</td>\n",
       "      <td>102.53</td>\n",
       "      <td>8.45</td>\n",
       "      <td>15.45</td>\n",
       "      <td>17.02</td>\n",
       "      <td>27.18</td>\n",
       "      <td>0.68</td>\n",
       "      <td>12.63</td>\n",
       "      <td>49.14</td>\n",
       "      <td>1.19</td>\n",
       "      <td>7.55</td>\n",
       "      <td>0.00</td>\n",
       "      <td>102.0</td>\n",
       "      <td>Moderate</td>\n",
       "      <td>4</td>\n",
       "      <td>2020</td>\n",
       "      <td>18</td>\n",
       "    </tr>\n",
       "    <tr>\n",
       "      <th>1935</th>\n",
       "      <td>Delhi</td>\n",
       "      <td>2020-04-19</td>\n",
       "      <td>35.49</td>\n",
       "      <td>73.86</td>\n",
       "      <td>10.13</td>\n",
       "      <td>19.72</td>\n",
       "      <td>20.82</td>\n",
       "      <td>29.94</td>\n",
       "      <td>0.71</td>\n",
       "      <td>13.17</td>\n",
       "      <td>40.53</td>\n",
       "      <td>1.29</td>\n",
       "      <td>9.46</td>\n",
       "      <td>0.00</td>\n",
       "      <td>95.0</td>\n",
       "      <td>Satisfactory</td>\n",
       "      <td>4</td>\n",
       "      <td>2020</td>\n",
       "      <td>19</td>\n",
       "    </tr>\n",
       "    <tr>\n",
       "      <th>1936</th>\n",
       "      <td>Delhi</td>\n",
       "      <td>2020-04-20</td>\n",
       "      <td>52.86</td>\n",
       "      <td>113.25</td>\n",
       "      <td>12.38</td>\n",
       "      <td>24.56</td>\n",
       "      <td>25.55</td>\n",
       "      <td>31.57</td>\n",
       "      <td>1.02</td>\n",
       "      <td>15.06</td>\n",
       "      <td>32.67</td>\n",
       "      <td>2.37</td>\n",
       "      <td>15.52</td>\n",
       "      <td>0.00</td>\n",
       "      <td>115.0</td>\n",
       "      <td>Moderate</td>\n",
       "      <td>4</td>\n",
       "      <td>2020</td>\n",
       "      <td>20</td>\n",
       "    </tr>\n",
       "  </tbody>\n",
       "</table>\n",
       "</div>"
      ],
      "text/plain": [
       "       City       Date  PM2.5    PM10     NO    NO2    NOx    NH3    CO  \\\n",
       "1917  Delhi 2020-04-01  32.88   65.84  10.40  19.17  19.26  26.73  0.62   \n",
       "1918  Delhi 2020-04-02  28.51   61.06   9.91  17.18  17.72  22.22  0.60   \n",
       "1919  Delhi 2020-04-03  31.36   62.69   9.29  20.07  19.33  21.54  0.61   \n",
       "1920  Delhi 2020-04-04  40.79   77.64  10.07  22.38  21.19  23.06  0.68   \n",
       "1921  Delhi 2020-04-05  51.79   96.88  10.99  24.42  22.78  25.14  0.81   \n",
       "1922  Delhi 2020-04-06  59.91  114.88  11.05  24.37  22.68  26.41  0.81   \n",
       "1923  Delhi 2020-04-07  33.12   94.02   8.50  19.27  17.38  25.53  0.60   \n",
       "1924  Delhi 2020-04-08  29.70   79.04   8.38  18.56  16.51  23.41  0.56   \n",
       "1925  Delhi 2020-04-09  36.13   76.32   8.49  21.37  18.16  23.84  0.66   \n",
       "1926  Delhi 2020-04-10  57.67  112.93   9.80  27.12  23.30  27.71  0.81   \n",
       "1927  Delhi 2020-04-11  53.03  118.10   9.54  23.64  21.90  28.33  0.83   \n",
       "1928  Delhi 2020-04-12  38.57   92.70   5.48  17.59  14.66  26.99  0.67   \n",
       "1929  Delhi 2020-04-13  60.60  136.77   7.16  23.40  19.83  27.95  0.83   \n",
       "1930  Delhi 2020-04-14  58.22  144.70   8.83  25.71  22.96  28.76  0.93   \n",
       "1931  Delhi 2020-04-15  58.31  190.98  10.37  24.55  24.05  28.36  0.93   \n",
       "1932  Delhi 2020-04-16  69.80  191.17  11.86  25.01  25.66  30.36  0.94   \n",
       "1933  Delhi 2020-04-17  26.93   89.58   8.12  15.83  16.95  26.06  0.64   \n",
       "1934  Delhi 2020-04-18  29.09  102.53   8.45  15.45  17.02  27.18  0.68   \n",
       "1935  Delhi 2020-04-19  35.49   73.86  10.13  19.72  20.82  29.94  0.71   \n",
       "1936  Delhi 2020-04-20  52.86  113.25  12.38  24.56  25.55  31.57  1.02   \n",
       "\n",
       "        SO2     O3  Benzene  Toluene  Xylene    AQI    AQI_Bucket  month  \\\n",
       "1917  13.00  35.06     1.12     9.17    3.01   80.0  Satisfactory      4   \n",
       "1918  10.84  39.47     0.91     7.85    0.97   78.0  Satisfactory      4   \n",
       "1919  11.99  46.82     1.13     8.60    0.77   84.0  Satisfactory      4   \n",
       "1920  12.59  41.26     1.30     9.64    0.89   90.0  Satisfactory      4   \n",
       "1921  16.03  44.55     1.74    12.38    0.26  103.0      Moderate      4   \n",
       "1922  15.59  44.16     2.04    12.80    0.24  134.0      Moderate      4   \n",
       "1923  13.46  42.65     1.01     9.13    0.13  100.0  Satisfactory      4   \n",
       "1924  12.85  45.80     0.99     8.24    0.05   91.0  Satisfactory      4   \n",
       "1925  14.20  48.34     1.11     7.52    0.07   89.0  Satisfactory      4   \n",
       "1926  16.32  40.36     1.79    11.45    0.14  111.0      Moderate      4   \n",
       "1927  18.38  49.51     1.88    11.18    0.04  126.0      Moderate      4   \n",
       "1928  15.70  50.15     1.19     6.87    0.00  102.0      Moderate      4   \n",
       "1929  19.86  41.07     1.78     9.62    0.00  119.0      Moderate      4   \n",
       "1930  17.38  40.74     2.04    13.12    0.01  134.0      Moderate      4   \n",
       "1931  14.89  38.22     2.36    11.89    0.02  152.0      Moderate      4   \n",
       "1932  19.42  41.87     2.40    13.75    0.01  172.0      Moderate      4   \n",
       "1933  14.08  53.53     1.07     7.79    0.00  123.0      Moderate      4   \n",
       "1934  12.63  49.14     1.19     7.55    0.00  102.0      Moderate      4   \n",
       "1935  13.17  40.53     1.29     9.46    0.00   95.0  Satisfactory      4   \n",
       "1936  15.06  32.67     2.37    15.52    0.00  115.0      Moderate      4   \n",
       "\n",
       "      Year  day  \n",
       "1917  2020    1  \n",
       "1918  2020    2  \n",
       "1919  2020    3  \n",
       "1920  2020    4  \n",
       "1921  2020    5  \n",
       "1922  2020    6  \n",
       "1923  2020    7  \n",
       "1924  2020    8  \n",
       "1925  2020    9  \n",
       "1926  2020   10  \n",
       "1927  2020   11  \n",
       "1928  2020   12  \n",
       "1929  2020   13  \n",
       "1930  2020   14  \n",
       "1931  2020   15  \n",
       "1932  2020   16  \n",
       "1933  2020   17  \n",
       "1934  2020   18  \n",
       "1935  2020   19  \n",
       "1936  2020   20  "
      ]
     },
     "execution_count": 19,
     "metadata": {},
     "output_type": "execute_result"
    }
   ],
   "source": [
    "Year_2020.head(20)\n"
   ]
  },
  {
   "cell_type": "code",
   "execution_count": 20,
   "metadata": {},
   "outputs": [
    {
     "data": {
      "image/png": "[encoded data removed]",
      "text/plain": [
       "<Figure size 432x288 with 1 Axes>"
      ]
     },
     "metadata": {
      "needs_background": "light"
     },
     "output_type": "display_data"
    }
   ],
   "source": [
    "#plotting PM 2.5 2020 vs 2015-2019\n",
    "hist = Year_2020.groupby('month')['PM2.5'].mean()\n",
    "hist2 = Year_15_19.groupby('month')['PM2.5'].mean()\n",
    "bar = plt.bar(hist.index - 0.1, hist, color ='black',width = .2, label = '2020')\n",
    "bar1 = plt.bar(hist2.index +.1 , hist2, color ='grey',width = .2,label ='2015-2019')\n",
    "plt.xlabel(\"Month\")\n",
    "plt.ylabel(\"PM 2.5\")\n",
    "plt.legend()\n",
    "plt.title(\"comaprison of  PM-2.5 2015-2019 vs 2020\")\n",
    "plt.savefig('PM2_5')"
   ]
  },
  {
   "cell_type": "code",
   "execution_count": 21,
   "metadata": {},
   "outputs": [
    {
     "data": {
      "image/png": "[encoded data removed]",
      "text/plain": [
       "<Figure size 432x288 with 1 Axes>"
      ]
     },
     "metadata": {
      "needs_background": "light"
     },
     "output_type": "display_data"
    }
   ],
   "source": [
    "hist = Year_2020.groupby('month')['SO2'].mean()\n",
    "hist2 = Year_15_19.groupby('month')['SO2'].mean()\n",
    "bar = plt.bar(hist.index - 0.1, hist, color ='black',width = .2, label = '2020')\n",
    "bar1 = plt.bar(hist2.index +.1 , hist2, color ='grey',width = .2,label ='2015-2019')\n",
    "plt.xlabel(\"Month\")\n",
    "plt.ylabel(\"PM 10\")\n",
    "plt.legend()\n",
    "plt.title(\"comaprison of  PM-10 2015-2019 vs 2020\")\n",
    "plt.savefig('SO2')"
   ]
  },
  {
   "cell_type": "code",
   "execution_count": 22,
   "metadata": {},
   "outputs": [
    {
     "data": {
      "image/png": "[encoded data removed]",
      "text/plain": [
       "<Figure size 432x288 with 1 Axes>"
      ]
     },
     "metadata": {
      "needs_background": "light"
     },
     "output_type": "display_data"
    }
   ],
   "source": [
    "hist2 = df.groupby('month')['NOx'].mean()\n",
    "#hist['month'] = hist.index\n",
    "plt.bar(hist2.index, hist2, color ='black',\n",
    "        width = .6)\n",
    "plt.xlabel(\"Month\")\n",
    "plt.ylabel(\"Severly Polluted air quality\")\n",
    "plt.title(\"incidences of poor air quality month-wise 2015-2020\")\n",
    "plt.show()"
   ]
  },
  {
   "cell_type": "code",
   "execution_count": 23,
   "metadata": {},
   "outputs": [
    {
     "data": {
      "image/png": "[encoded data removed]",
      "text/plain": [
       "<Figure size 432x288 with 1 Axes>"
      ]
     },
     "metadata": {
      "needs_background": "light"
     },
     "output_type": "display_data"
    }
   ],
   "source": [
    "hist2 = df.groupby('month')['AQI'].mean()\n",
    "#hist['month'] = hist.index\n",
    "plt.bar(hist2.index, hist2, color ='blue',\n",
    "        width = .6)\n",
    "plt.xlabel(\"Month\")\n",
    "plt.ylabel(\"Mean of AQI monthwise\")\n",
    "plt.savefig('Mean of AQI monthwise')\n",
    "plt.show()"
   ]
  },
  {
   "cell_type": "code",
   "execution_count": 24,
   "metadata": {},
   "outputs": [
    {
     "data": {
      "image/png": "[encoded data removed]",
      "text/plain": [
       "<Figure size 432x288 with 1 Axes>"
      ]
     },
     "metadata": {
      "needs_background": "light"
     },
     "output_type": "display_data"
    }
   ],
   "source": [
    "hist2 = df.groupby('month')['AQI'].mean()\n",
    "plt.bar(hist2.index, hist2, color ='black',\n",
    "        width = .6)\n",
    "plt.scatter(hist2.index, hist2, color ='black')\n",
    "plt.plot(hist2.index, hist2, color ='red',linewidth = 3)\n",
    "plt.xlabel(\"Month\")\n",
    "plt.ylabel(\"AQI\")\n",
    "plt.title(\"CO concenterations\")\n",
    "plt.show()"
   ]
  },
  {
   "cell_type": "code",
   "execution_count": 25,
   "metadata": {},
   "outputs": [
    {
     "data": {
      "image/png": "[encoded data removed]",
      "text/plain": [
       "<Figure size 432x288 with 1 Axes>"
      ]
     },
     "metadata": {
      "needs_background": "light"
     },
     "output_type": "display_data"
    }
   ],
   "source": [
    "hist2 = Year_2020.groupby('month')['PM2.5'].mean()\n",
    "hist = Year_15_19.groupby('month')['PM2.5'].mean()\n",
    "#hist['month'] = hist.index\n",
    "plt.bar(hist2.index-.4, hist2, color = 'grey',\n",
    "        width = .4, label = '2020')\n",
    "plt.bar(hist.index, hist, color ='black',\n",
    "        width = .4,label = '2016-2019')\n",
    "plt.xlabel(\"Month\")\n",
    "plt.ylabel(\" Average value of PM2.5\")\n",
    "plt.legend()\n",
    "plt.show()"
   ]
  },
  {
   "cell_type": "code",
   "execution_count": 26,
   "metadata": {},
   "outputs": [
    {
     "data": {
      "image/png": "[encoded data removed]",
      "text/plain": [
       "<Figure size 432x288 with 1 Axes>"
      ]
     },
     "metadata": {
      "needs_background": "light"
     },
     "output_type": "display_data"
    }
   ],
   "source": [
    "c= []\n",
    "i= 0\n",
    "while (i <2100):\n",
    "    c.append(i)\n",
    "    i = i + 365.5\n",
    "df['year'] = df['Date'].dt.year\n",
    "df\n",
    "df_2015 = df.loc[(df['year']== 2015)]\n",
    "df_2016 = df.loc[(df['year']== 2016)]\n",
    "#df_2016.index = [ i for i in range (0, len(df_2016)) ]\n",
    "df_2017 = df.loc[(df['year']== 2017)]\n",
    "#df_2017.index = [ i for i in range (0, len(df_2017)) ]\n",
    "df_2018 = df.loc[(df['year']== 2018)]\n",
    "df_2019 = df.loc[(df['year']== 2019)]\n",
    "df_2020 = df.loc[(df['year']== 2020)]\n",
    "\n",
    "plt.plot(df_2015.index, df_2015['AQI'], color = 'BLUE' )\n",
    "plt.plot(df_2016.index, df_2016['AQI'], color = 'RED' )\n",
    "plt.plot(df_2017.index, df_2017['AQI'], color = 'BLUE' )\n",
    "plt.plot(df_2018.index, df_2018['AQI'], color = 'RED' )\n",
    "plt.plot(df_2019.index, df_2019['AQI'], color = 'BLUE' )\n",
    "plt.plot(df_2020.index, df_2020['AQI'], color = 'RED' )\n",
    "plt.title(\" Daily variation of AQI 2015-2020\")\n",
    "plt.xticks(c)\n",
    "plt.savefig('variation of AQI daily 2015-2020')\n",
    "\n"
   ]
  },
  {
   "cell_type": "code",
   "execution_count": 27,
   "metadata": {},
   "outputs": [
    {
     "data": {
      "image/png": "[encoded data removed]",
      "text/plain": [
       "<Figure size 432x288 with 1 Axes>"
      ]
     },
     "metadata": {
      "needs_background": "light"
     },
     "output_type": "display_data"
    }
   ],
   "source": [
    "i = 2015\n",
    "while i <2021:\n",
    "    df_yearwise =  df.loc[(df['year']== i)]\n",
    "    #df_yearwise = df_yearwise.reset_index()\n",
    "    df_rolling = df_yearwise['AQI'].rolling(15).mean()\n",
    "    plt.plot(df_rolling.index, df_rolling, [i-2010], linewidth = 3)\n",
    "    i = i +1\n",
    "plt.title(\"Rolling average Daily variation of AQI 2015-2020\")\n",
    "plt.ylabel('AQI')\n",
    "plt.xlabel('DAYS')\n",
    "plt.savefig('Weighted average Daily variation of AQI 2015-2020')"
   ]
  },
  {
   "cell_type": "code",
   "execution_count": 28,
   "metadata": {},
   "outputs": [
    {
     "data": {
      "text/plain": [
       "117.59775035968282"
      ]
     },
     "execution_count": 28,
     "metadata": {},
     "output_type": "execute_result"
    }
   ],
   "source": [
    "df_2019['AQI'].std()"
   ]
  },
  {
   "cell_type": "code",
   "execution_count": 29,
   "metadata": {},
   "outputs": [],
   "source": [
    "from statsmodels.tsa.stattools import adfuller\n",
    "result = adfuller(df['AQI'], autolag='AIC')"
   ]
  },
  {
   "cell_type": "code",
   "execution_count": 30,
   "metadata": {},
   "outputs": [
    {
     "name": "stdout",
     "output_type": "stream",
     "text": [
      "ADF Statistic: -3.4425759824257423\n",
      "n_lags: 0.009590306551633674\n",
      "p-value: 0.009590306551633674\n",
      "Critial Values:\n",
      "   1%, -3.4336386745240652\n",
      "Critial Values:\n",
      "   5%, -2.8629927557359443\n",
      "Critial Values:\n",
      "   10%, -2.5675433856598793\n"
     ]
    }
   ],
   "source": [
    "print(f'ADF Statistic: {result[0]}')\n",
    "print(f'n_lags: {result[1]}')\n",
    "print(f'p-value: {result[1]}')\n",
    "for key, value in result[4].items():\n",
    "    print('Critial Values:')\n",
    "    print(f'   {key}, {value}') "
   ]
  },
  {
   "cell_type": "code",
   "execution_count": 31,
   "metadata": {},
   "outputs": [],
   "source": [
    "c= []\n",
    "d=[]\n",
    "s= 0\n",
    "for i in range(0,31):\n",
    "    c.append(300)\n",
    "    if(i%5==0):\n",
    "     d.append(i)\n",
    "    \n",
    "   \n"
   ]
  },
  {
   "cell_type": "code",
   "execution_count": 32,
   "metadata": {},
   "outputs": [
    {
     "data": {
      "image/png": "[encoded data removed]",
      "text/plain": [
       "<Figure size 432x288 with 1 Axes>"
      ]
     },
     "metadata": {
      "needs_background": "light"
     },
     "output_type": "display_data"
    },
    {
     "data": {
      "image/png": "[encoded data removed]",
      "text/plain": [
       "<Figure size 432x288 with 1 Axes>"
      ]
     },
     "metadata": {
      "needs_background": "light"
     },
     "output_type": "display_data"
    },
    {
     "data": {
      "image/png": "[encoded data removed]",
      "text/plain": [
       "<Figure size 432x288 with 1 Axes>"
      ]
     },
     "metadata": {
      "needs_background": "light"
     },
     "output_type": "display_data"
    },
    {
     "data": {
      "image/png": "[encoded data removed]",
      "text/plain": [
       "<Figure size 432x288 with 1 Axes>"
      ]
     },
     "metadata": {
      "needs_background": "light"
     },
     "output_type": "display_data"
    },
    {
     "data": {
      "image/png": "[encoded data removed]",
      "text/plain": [
       "<Figure size 432x288 with 1 Axes>"
      ]
     },
     "metadata": {
      "needs_background": "light"
     },
     "output_type": "display_data"
    }
   ],
   "source": [
    "for i in range(2015,2020):\n",
    "        df_oct = df.loc[((df['month'] == 10))  & (df['Year'] == i)]\n",
    "        df_oct = df_oct.reset_index()\n",
    "        plt.plot(df_oct.index, df_oct['AQI'], color = 'black')\n",
    "        plt.plot(df_oct.index, c, color = 'red')\n",
    "        plt.xticks(d)\n",
    "        plt.xlabel('Day')\n",
    "        plt.ylabel('AQI')\n",
    "        plt.title(str(i))\n",
    "        plt.savefig(str(i))\n",
    "        plt.show()\n",
    "        "
   ]
  },
  {
   "cell_type": "code",
   "execution_count": 33,
   "metadata": {},
   "outputs": [
    {
     "data": {
      "image/png": "[encoded data removed]",
      "text/plain": [
       "<Figure size 432x288 with 1 Axes>"
      ]
     },
     "metadata": {
      "needs_background": "light"
     },
     "output_type": "display_data"
    },
    {
     "data": {
      "image/png": "[encoded data removed]",
      "text/plain": [
       "<Figure size 432x288 with 1 Axes>"
      ]
     },
     "metadata": {
      "needs_background": "light"
     },
     "output_type": "display_data"
    },
    {
     "data": {
      "image/png": "[encoded data removed]",
      "text/plain": [
       "<Figure size 432x288 with 1 Axes>"
      ]
     },
     "metadata": {
      "needs_background": "light"
     },
     "output_type": "display_data"
    },
    {
     "data": {
      "image/png": "[encoded data removed]",
      "text/plain": [
       "<Figure size 432x288 with 1 Axes>"
      ]
     },
     "metadata": {
      "needs_background": "light"
     },
     "output_type": "display_data"
    },
    {
     "data": {
      "image/png": "[encoded data removed]",
      "text/plain": [
       "<Figure size 432x288 with 1 Axes>"
      ]
     },
     "metadata": {
      "needs_background": "light"
     },
     "output_type": "display_data"
    }
   ],
   "source": [
    "i = 2015\n",
    "while i <2020:\n",
    "    df_oct=  df.loc[(df['month']== 10) & (df['year']== i)]\n",
    "    df_oct = df_oct.reset_index()\n",
    "    df_rolling = df_oct['PM2.5'].rolling(3).mean()\n",
    "    df_rolling2 = df_oct['NOx'].rolling(3).mean()\n",
    "    plt.plot(df_rolling.index, df_rolling, [i-2010], color = 'red' , linewidth = 3, label = 'PM2.5')\n",
    "    plt.plot(df_rolling2.index, df_rolling2, color = 'blue', linewidth = 3, label = 'NOx')\n",
    "    plt.title(str(i))\n",
    "\n",
    "    plt.legend()\n",
    "    plt.xlabel('DAYS')\n",
    "    plt.savefig(str(i))\n",
    "    plt.legend()\n",
    "    plt.title(str(i))\n",
    "    plt.show()\n",
    "    i = i +1\n",
    "    \n",
    "\n",
    "\n",
    "#plt.savefig('Weighted average Daily variation of AQI 2015-2020')\n",
    "            \n",
    "        \n",
    "        \n",
    "        \n",
    "        "
   ]
  },
  {
   "cell_type": "code",
   "execution_count": 34,
   "metadata": {},
   "outputs": [
    {
     "data": {
      "text/plain": [
       "Index(['index', 'City', 'Date', 'PM2.5', 'PM10', 'NO', 'NO2', 'NOx', 'NH3',\n",
       "       'CO', 'SO2', 'O3', 'Benzene', 'Toluene', 'Xylene', 'AQI', 'AQI_Bucket',\n",
       "       'month', 'Year', 'day', 'year'],\n",
       "      dtype='object')"
      ]
     },
     "execution_count": 34,
     "metadata": {},
     "output_type": "execute_result"
    }
   ],
   "source": [
    "df_oct=  df.loc[(df['month']== 10)]\n",
    "df_oct = df_oct.reset_index()\n",
    "list = df_oct.columns\n",
    "oct = df_oct.values\n",
    "list\n",
    "\n"
   ]
  },
  {
   "cell_type": "code",
   "execution_count": null,
   "metadata": {},
   "outputs": [],
   "source": []
  },
  {
   "cell_type": "code",
   "execution_count": 35,
   "metadata": {},
   "outputs": [],
   "source": [
    "d = []\n",
    "\n",
    "\n",
    "for j in range(3,16):\n",
    " c =[]\n",
    " s = 0\n",
    " i= 0\n",
    " while i <155:\n",
    "    s = 100*(oct[i+30,j]- oct[i,j])/(oct[i,j])\n",
    "    c.append(s)\n",
    "    i+=31\n",
    " d.append(c)\n",
    "    \n",
    "\n",
    "    \n",
    "  \n"
   ]
  },
  {
   "cell_type": "code",
   "execution_count": 36,
   "metadata": {},
   "outputs": [],
   "source": [
    "d\n",
    "dff = pd.DataFrame(d)"
   ]
  },
  {
   "cell_type": "code",
   "execution_count": 37,
   "metadata": {},
   "outputs": [
    {
     "name": "stdout",
     "output_type": "stream",
     "text": [
      "[-17.676359719978464, 34.63117027176927, 331.1732605729877, 180.44528460407483, 212.30940870211975]\n"
     ]
    }
   ],
   "source": [
    "i =0 \n",
    "c= []\n",
    "while i <155:\n",
    "    s = 100*(oct[i+25,7]- oct[i,7])/(oct[i,7])\n",
    "    c.append(s)\n",
    "    i+=31\n",
    "print(c)"
   ]
  },
  {
   "cell_type": "code",
   "execution_count": 38,
   "metadata": {},
   "outputs": [
    {
     "data": {
      "text/plain": [
       "Index(['PM2.5', 'PM10', 'NO', 'NO2', 'NOx', 'NH3', 'CO', 'SO2', 'O3',\n",
       "       'Benzene', 'Toluene', 'Xylene'],\n",
       "      dtype='object')"
      ]
     },
     "execution_count": 38,
     "metadata": {},
     "output_type": "execute_result"
    }
   ],
   "source": [
    "list[3:15]"
   ]
  },
  {
   "cell_type": "code",
   "execution_count": null,
   "metadata": {},
   "outputs": [],
   "source": []
  },
  {
   "cell_type": "code",
   "execution_count": 39,
   "metadata": {},
   "outputs": [],
   "source": [
    "e = []\n",
    "for l in range(0,155,31):\n",
    "  oct_yr = oct[l:l+31]\n",
    "  d =[]\n",
    "  for k in range(3,15):\n",
    "    s = 0\n",
    "    c =[]\n",
    "    for i in range(0,len(oct_yr)-5):\n",
    "        for j in range(i,i+5):\n",
    "            s = s + oct_yr[j,k]\n",
    "        s = s/5\n",
    "        c.append(s)\n",
    "      \n",
    "        s = 0\n",
    "    d.append(c)\n",
    "  e.append(d)"
   ]
  },
  {
   "cell_type": "code",
   "execution_count": 40,
   "metadata": {},
   "outputs": [],
   "source": [
    "arr = np.array(e)"
   ]
  },
  {
   "cell_type": "code",
   "execution_count": 41,
   "metadata": {},
   "outputs": [
    {
     "data": {
      "text/plain": [
       "(5, 12, 26)"
      ]
     },
     "execution_count": 41,
     "metadata": {},
     "output_type": "execute_result"
    }
   ],
   "source": [
    "arr.shape\n"
   ]
  },
  {
   "cell_type": "code",
   "execution_count": 42,
   "metadata": {},
   "outputs": [
    {
     "data": {
      "text/plain": [
       "-16.314000000000007"
      ]
     },
     "execution_count": 42,
     "metadata": {},
     "output_type": "execute_result"
    }
   ],
   "source": [
    "arr[0,0,25]-arr[0,0,0]"
   ]
  },
  {
   "cell_type": "code",
   "execution_count": 43,
   "metadata": {},
   "outputs": [],
   "source": [
    "d =[]\n",
    "for j in range(0,12):\n",
    "    c =[]\n",
    "    for i in range(0,5):\n",
    "        s = 100*(arr[i,j,25]- arr[i,j,0])/(arr[i,j,0])\n",
    "        c.append(s)\n",
    "    d.append(c)\n",
    "\n",
    "        "
   ]
  },
  {
   "cell_type": "code",
   "execution_count": 44,
   "metadata": {},
   "outputs": [
    {
     "data": {
      "text/plain": [
       "(12, 5)"
      ]
     },
     "execution_count": 44,
     "metadata": {},
     "output_type": "execute_result"
    }
   ],
   "source": [
    "d =np.array(d)\n",
    "d.shape"
   ]
  },
  {
   "cell_type": "code",
   "execution_count": 45,
   "metadata": {},
   "outputs": [
    {
     "data": {
      "text/plain": [
       "array([[-13.29822788, 181.41343926, 162.5286122 , 161.8338447 ,\n",
       "        466.49426894],\n",
       "       [-23.81125511, 134.59634157, 137.74109416,  97.72964285,\n",
       "        259.90329145],\n",
       "       [-21.53520067,  63.99640177, 352.19298246, 104.65695473,\n",
       "        132.95916065],\n",
       "       [ 59.36923077, 109.417369  , 240.11708949,  29.37142857,\n",
       "         59.22330097]])"
      ]
     },
     "execution_count": 45,
     "metadata": {},
     "output_type": "execute_result"
    }
   ],
   "source": [
    "d[[0,1,4,7]]\n"
   ]
  },
  {
   "cell_type": "code",
   "execution_count": 46,
   "metadata": {},
   "outputs": [],
   "source": [
    "dff = pd.DataFrame(d[[0,1,4,7]])\n",
    "dff['pollutants'] = list[[3,4,7,10]]"
   ]
  },
  {
   "cell_type": "code",
   "execution_count": 47,
   "metadata": {},
   "outputs": [],
   "source": [
    "dff.to_excel('Rolling average change %.xlsx')"
   ]
  }
 ],
 "metadata": {
  "kernelspec": {
   "display_name": "Python 3",
   "language": "python",
   "name": "python3"
  },
  "language_info": {
   "codemirror_mode": {
    "name": "ipython",
    "version": 3
   },
   "file_extension": ".py",
   "mimetype": "text/x-python",
   "name": "python",
   "nbconvert_exporter": "python",
   "pygments_lexer": "ipython3",
   "version": "3.8.5"
  }
 },
 "nbformat": 4,
 "nbformat_minor": 4
}
